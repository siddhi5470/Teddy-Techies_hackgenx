{
  "nbformat": 4,
  "nbformat_minor": 0,
  "metadata": {
    "colab": {
      "provenance": [],
      "include_colab_link": true
    },
    "kernelspec": {
      "name": "python3",
      "display_name": "Python 3"
    },
    "language_info": {
      "name": "python"
    }
  },
  "cells": [
    {
      "cell_type": "markdown",
      "metadata": {
        "id": "view-in-github",
        "colab_type": "text"
      },
      "source": [
        "<a href=\"https://colab.research.google.com/github/siddhi5470/Teddy-Techies_hackgenx/blob/main/HACKGENX.ipynb\" target=\"_parent\"><img src=\"https://colab.research.google.com/assets/colab-badge.svg\" alt=\"Open In Colab\"/></a>"
      ]
    },
    {
      "cell_type": "code",
      "execution_count": 34,
      "metadata": {
        "colab": {
          "base_uri": "https://localhost:8080/",
          "height": 0
        },
        "id": "oWU3Iz8eRVrq",
        "outputId": "654acace-f815-4dc3-bb75-b49574a65882"
      },
      "outputs": [
        {
          "output_type": "stream",
          "name": "stdout",
          "text": [
            "Drive already mounted at /content/drive; to attempt to forcibly remount, call drive.mount(\"/content/drive\", force_remount=True).\n"
          ]
        }
      ],
      "source": [
        "from google.colab import drive\n",
        "drive.mount('/content/drive')"
      ]
    },
    {
      "cell_type": "code",
      "source": [
        "import pandas as pd\n",
        "import numpy as np\n",
        "# Load the dataset\n",
        "file_path = '/content/Medical_Device_Failure_dataset.csv'\n",
        "df = pd.read_csv(file_path)"
      ],
      "metadata": {
        "id": "UvruQCxTW5T_"
      },
      "execution_count": 35,
      "outputs": []
    },
    {
      "cell_type": "code",
      "source": [
        "print(df.columns)"
      ],
      "metadata": {
        "colab": {
          "base_uri": "https://localhost:8080/",
          "height": 0
        },
        "id": "BHWY4qSbBGDh",
        "outputId": "bbff6827-32cb-4efb-8f4a-6da114e9d6f5"
      },
      "execution_count": 36,
      "outputs": [
        {
          "output_type": "stream",
          "name": "stdout",
          "text": [
            "Index(['Device_ID', 'Device_Type', 'Purchase_Date', 'Age', 'Manufacturer',\n",
            "       'Model', 'Country', 'Maintenance_Cost', 'Downtime',\n",
            "       'Maintenance_Frequency', 'Failure_Event_Count', 'Maintenance_Class',\n",
            "       'Maintenance_Report'],\n",
            "      dtype='object')\n"
          ]
        }
      ]
    },
    {
      "cell_type": "code",
      "source": [
        "#Finding missing values in %\n",
        "missing_percentage = df.isnull().sum() / len(df) * 100\n",
        "print(\"Percentage of missing values:\\n\", missing_percentage)"
      ],
      "metadata": {
        "colab": {
          "base_uri": "https://localhost:8080/",
          "height": 0
        },
        "id": "5YPI7_0JcOcC",
        "outputId": "e3d925b0-fbe6-4584-8666-4114fa5626da"
      },
      "execution_count": 37,
      "outputs": [
        {
          "output_type": "stream",
          "name": "stdout",
          "text": [
            "Percentage of missing values:\n",
            " Device_ID                0.0\n",
            "Device_Type              0.0\n",
            "Purchase_Date            0.0\n",
            "Age                      0.0\n",
            "Manufacturer             0.0\n",
            "Model                    0.0\n",
            "Country                  0.0\n",
            "Maintenance_Cost         0.0\n",
            "Downtime                 0.0\n",
            "Maintenance_Frequency    0.0\n",
            "Failure_Event_Count      0.0\n",
            "Maintenance_Class        0.0\n",
            "Maintenance_Report       0.0\n",
            "dtype: float64\n"
          ]
        }
      ]
    },
    {
      "cell_type": "code",
      "source": [
        "for column in df.columns:\n",
        "    unique_values = df[column].unique()\n",
        "    print(f\"Column: {column}\")\n",
        "    print(f\"First 2 Unique Values: {unique_values[:2]}\")\n",
        "    print(f\"Total Unique Values: {len(unique_values)}\\n\")"
      ],
      "metadata": {
        "colab": {
          "base_uri": "https://localhost:8080/",
          "height": 0
        },
        "id": "Q41IXgVni26_",
        "outputId": "42adbe0c-3ec4-44c4-ac7f-badbace85004"
      },
      "execution_count": 38,
      "outputs": [
        {
          "output_type": "stream",
          "name": "stdout",
          "text": [
            "Column: Device_ID\n",
            "First 2 Unique Values: ['MD03449' 'MD02024']\n",
            "Total Unique Values: 4149\n",
            "\n",
            "Column: Device_Type\n",
            "First 2 Unique Values: ['Defibrillator' 'Infusion Pump']\n",
            "Total Unique Values: 6\n",
            "\n",
            "Column: Purchase_Date\n",
            "First 2 Unique Values: ['2018-04-23' '2020-12-10']\n",
            "Total Unique Values: 2563\n",
            "\n",
            "Column: Age\n",
            "First 2 Unique Values: [7 5]\n",
            "Total Unique Values: 12\n",
            "\n",
            "Column: Manufacturer\n",
            "First 2 Unique Values: ['CardioSync' 'MedEquip']\n",
            "Total Unique Values: 6\n",
            "\n",
            "Column: Model\n",
            "First 2 Unique Values: ['Model-100' 'Model-650']\n",
            "Total Unique Values: 12\n",
            "\n",
            "Column: Country\n",
            "First 2 Unique Values: ['France' 'Italy']\n",
            "Total Unique Values: 6\n",
            "\n",
            "Column: Maintenance_Cost\n",
            "First 2 Unique Values: [7115.34958506 7290.78065849]\n",
            "Total Unique Values: 4149\n",
            "\n",
            "Column: Downtime\n",
            "First 2 Unique Values: [7.933824   7.83871142]\n",
            "Total Unique Values: 4149\n",
            "\n",
            "Column: Maintenance_Frequency\n",
            "First 2 Unique Values: [3 1]\n",
            "Total Unique Values: 5\n",
            "\n",
            "Column: Failure_Event_Count\n",
            "First 2 Unique Values: [0 4]\n",
            "Total Unique Values: 11\n",
            "\n",
            "Column: Maintenance_Class\n",
            "First 2 Unique Values: [1 2]\n",
            "Total Unique Values: 3\n",
            "\n",
            "Column: Maintenance_Report\n",
            "First 2 Unique Values: ['Component component upgrade after detecting overheating; functionality restored. log cleaned low priority fault'\n",
            " 'battery wear caused operational delay; replacement initiated. driver update device required inspection']\n",
            "Total Unique Values: 3356\n",
            "\n"
          ]
        }
      ]
    },
    {
      "cell_type": "code",
      "source": [
        "import pandas as pd\n",
        "\n",
        "# Load the dataset\n",
        "file_path = \"/content/Medical_Device_Failure_dataset.csv\"\n",
        "df = pd.read_csv(file_path)\n",
        "\n",
        "categorical_columns = [\n",
        "    \"Device_ID\", \"Device_Type\", \"Manufacturer\", \"Model\", \"Country\",\n",
        "    \"Maintenance_Report\"\n",
        "]\n",
        "\n",
        "# Target variable\n",
        "target_column = \"Maintenance_Frequency\"\n",
        "\n",
        "# Convert target column to numeric codes if it's categorical\n",
        "df[target_column] = df[target_column].astype('category')\n",
        "df[\"Maintenance_Frequency\"] = df[target_column].cat.codes\n",
        "\n",
        "# Create a copy of the dataset\n",
        "df_encoded = df.copy()\n",
        "\n",
        "# Apply Target Encoding\n",
        "for col in categorical_columns:\n",
        "    mean_target = df.groupby(col)[\"Maintenance_Frequency\"].mean()\n",
        "    df_encoded[col] = df[col].map(mean_target).round().astype(int)\n",
        "\n",
        "# Save the encoded dataset\n",
        "encoded_file_path = \"target_encoded_dataset.csv\"\n",
        "df_encoded.to_csv(encoded_file_path, index=False)\n",
        "\n",
        "print(f\"Target encoded dataset saved at: {encoded_file_path}\")\n"
      ],
      "metadata": {
        "colab": {
          "base_uri": "https://localhost:8080/",
          "height": 0
        },
        "id": "2RFz8R9Rk0c4",
        "outputId": "3765aa6b-f999-49c2-edab-c7b89cfbbdd0"
      },
      "execution_count": 42,
      "outputs": [
        {
          "output_type": "stream",
          "name": "stdout",
          "text": [
            "Target encoded dataset saved at: target_encoded_dataset.csv\n"
          ]
        }
      ]
    },
    {
      "cell_type": "code",
      "source": [],
      "metadata": {
        "id": "_Huc0n4fEL7D"
      },
      "execution_count": null,
      "outputs": []
    }
  ]
}